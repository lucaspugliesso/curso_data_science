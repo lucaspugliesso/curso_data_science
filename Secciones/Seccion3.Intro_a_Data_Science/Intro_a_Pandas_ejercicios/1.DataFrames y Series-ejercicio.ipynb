{
  "cells": [
    {
      "cell_type": "markdown",
      "metadata": {
        "id": "3CG60WQnQ0oJ"
      },
      "source": [
        "# Importar Pandas"
      ]
    },
    {
      "cell_type": "code",
      "execution_count": 1,
      "metadata": {
        "collapsed": true,
        "id": "K7zUkxkSQ0oL"
      },
      "outputs": [],
      "source": [
        "#importa pandas\n",
        "import pandas as pd"
      ]
    },
    {
      "cell_type": "markdown",
      "metadata": {
        "id": "5FRLnq56Q0oM"
      },
      "source": [
        "# Crear una Serie"
      ]
    },
    {
      "cell_type": "code",
      "execution_count": null,
      "metadata": {
        "collapsed": true,
        "id": "EvYKx7H3Q0oM"
      },
      "outputs": [],
      "source": [
        "# Crea una Serie de los numeros 10, 20 and 10.\n",
        "\n"
      ]
    },
    {
      "cell_type": "code",
      "execution_count": null,
      "metadata": {
        "collapsed": true,
        "id": "J3kwkVpmQ0oM"
      },
      "outputs": [],
      "source": [
        "# Crea una Serie con tres objetos: 'rojo', 'verde', 'azul'\n",
        "\n"
      ]
    },
    {
      "cell_type": "markdown",
      "metadata": {
        "id": "VQISJHniQ0oN"
      },
      "source": [
        "# Crear un Dataframe"
      ]
    },
    {
      "cell_type": "code",
      "execution_count": null,
      "metadata": {
        "collapsed": true,
        "id": "2tD0UiXiQ0oN"
      },
      "outputs": [],
      "source": [
        "# Crea un dataframe vacío llamado 'df'\n"
      ]
    },
    {
      "cell_type": "code",
      "execution_count": null,
      "metadata": {
        "collapsed": true,
        "id": "Rrzb46WIQ0oN"
      },
      "outputs": [],
      "source": [
        "# Crea una nueva columna en el dataframe, y asignale la primera serie que has creado\n"
      ]
    },
    {
      "cell_type": "code",
      "execution_count": null,
      "metadata": {
        "collapsed": true,
        "id": "CwgEdrbQQ0oN"
      },
      "outputs": [],
      "source": [
        "# Crea otra columna en el dataframe y asignale la segunda Serie que has creado\n"
      ]
    },
    {
      "cell_type": "markdown",
      "metadata": {
        "id": "TsebqJDWQ0oN"
      },
      "source": [
        "# Leer un dataframe"
      ]
    },
    {
      "cell_type": "code",
      "execution_count": null,
      "metadata": {
        "collapsed": true,
        "id": "7gJEoAOKQ0oN"
      },
      "outputs": [],
      "source": [
        "# Lee el archivo llamado 'avengers.csv\" localizado en la carpeta \"data\" y crea un DataFrame, llamado 'avengers'.\n",
        "# El archivo está localizado en \"data/avengers.csv\"\n",
        "\n"
      ]
    },
    {
      "cell_type": "markdown",
      "metadata": {
        "id": "JwO5-RDFQ0oO"
      },
      "source": [
        "# Inspeccionar un dataframe"
      ]
    },
    {
      "cell_type": "code",
      "execution_count": null,
      "metadata": {
        "collapsed": true,
        "id": "mm1Nl2AqQ0oO"
      },
      "outputs": [],
      "source": [
        "# Muestra las primeras 5 filas del DataFrame.\n",
        "\n"
      ]
    },
    {
      "cell_type": "code",
      "execution_count": null,
      "metadata": {
        "collapsed": true,
        "id": "MhKyNw0AQ0oO"
      },
      "outputs": [],
      "source": [
        "# Muestra las primeras 10 filas del DataFrame.\n"
      ]
    },
    {
      "cell_type": "code",
      "execution_count": null,
      "metadata": {
        "collapsed": true,
        "id": "fOx7sgziQ0oO"
      },
      "outputs": [],
      "source": [
        "# Muestra las últimas 5 filas del DataFrame.\n",
        "\n"
      ]
    },
    {
      "cell_type": "markdown",
      "metadata": {
        "id": "j6r2ucTVQ0oO"
      },
      "source": [
        "# Tamaño del DataFrame"
      ]
    },
    {
      "cell_type": "code",
      "execution_count": null,
      "metadata": {
        "collapsed": true,
        "id": "_s3uCyfAQ0oO"
      },
      "outputs": [],
      "source": [
        "# Muestra el tamaño del DataFrame\n"
      ]
    },
    {
      "cell_type": "markdown",
      "metadata": {
        "id": "ztIqpd_yQ0oO"
      },
      "source": [
        "# Data types en un DataFrame"
      ]
    },
    {
      "cell_type": "code",
      "execution_count": null,
      "metadata": {
        "collapsed": true,
        "id": "dDMZPAWdQ0oO"
      },
      "outputs": [],
      "source": [
        "# Muestra los data types del dataframe\n"
      ]
    },
    {
      "cell_type": "markdown",
      "metadata": {
        "id": "K7wdVQyrQ0oO"
      },
      "source": [
        "# Editar el indice (index)"
      ]
    },
    {
      "cell_type": "code",
      "execution_count": null,
      "metadata": {
        "collapsed": true,
        "id": "TA-BaciRQ0oO"
      },
      "outputs": [],
      "source": [
        "# Cambia el indice a la columna \"fecha_inicio\".\n",
        "\n"
      ]
    },
    {
      "cell_type": "markdown",
      "metadata": {
        "id": "U8saVI2hQ0oO"
      },
      "source": [
        "# Ordenar el indice"
      ]
    },
    {
      "cell_type": "code",
      "execution_count": null,
      "metadata": {
        "collapsed": true,
        "id": "igKSdRFEQ0oO"
      },
      "outputs": [],
      "source": [
        "# Ordena el índice de forma descendiente\n"
      ]
    },
    {
      "cell_type": "markdown",
      "metadata": {
        "id": "0n-vbOBqQ0oP"
      },
      "source": [
        "# Resetear el indice"
      ]
    },
    {
      "cell_type": "code",
      "execution_count": null,
      "metadata": {
        "collapsed": true,
        "id": "_SSxE1g0Q0oP"
      },
      "outputs": [],
      "source": [
        "# Resetea el índice\n",
        "\n"
      ]
    }
  ],
  "metadata": {
    "kernelspec": {
      "display_name": "Python 3",
      "language": "python",
      "name": "python3"
    },
    "language_info": {
      "codemirror_mode": {
        "name": "ipython",
        "version": 3
      },
      "file_extension": ".py",
      "mimetype": "text/x-python",
      "name": "python",
      "nbconvert_exporter": "python",
      "pygments_lexer": "ipython3",
      "version": "3.6.5"
    },
    "colab": {
      "provenance": []
    }
  },
  "nbformat": 4,
  "nbformat_minor": 0
}