{
  "cells": [
    {
      "cell_type": "markdown",
      "metadata": {
        "id": "view-in-github",
        "colab_type": "text"
      },
      "source": [
        "<a href=\"https://colab.research.google.com/github/lucaspugliesso/curso_data_science/blob/master/Copia_de_Intro_a_Numpy_ejercicios.ipynb\" target=\"_parent\"><img src=\"https://colab.research.google.com/assets/colab-badge.svg\" alt=\"Open In Colab\"/></a>"
      ]
    },
    {
      "cell_type": "markdown",
      "metadata": {
        "id": "1Ilg_riZKJMA"
      },
      "source": [
        "Importa numpy"
      ]
    },
    {
      "cell_type": "code",
      "execution_count": null,
      "metadata": {
        "collapsed": true,
        "id": "2QnXisx9KJMD"
      },
      "outputs": [],
      "source": [
        "import numpy as np"
      ]
    },
    {
      "cell_type": "markdown",
      "metadata": {
        "id": "tVAzQgf3KJMD"
      },
      "source": [
        "crea un numpy array que tenga la siguente estructura\n",
        "\n",
        "```\n",
        "[[1,  6, 11],\n",
        " [2,  7, 12],\n",
        " [3,  8, 13],\n",
        " [4,  9, 14],\n",
        " [5, 10, 15]]\n",
        "```\n",
        "\n",
        "llamalo `array`"
      ]
    },
    {
      "cell_type": "code",
      "execution_count": null,
      "metadata": {
        "collapsed": true,
        "id": "lzS92pfLKJME"
      },
      "outputs": [],
      "source": [
        "array= np.array([[1,  6, 11],\n",
        " [2,  7, 12],\n",
        " [3,  8, 13],\n",
        " [4,  9, 14],\n",
        " [5, 10, 15]])\n"
      ]
    },
    {
      "cell_type": "markdown",
      "metadata": {
        "id": "Z0gFgKyrKJME"
      },
      "source": [
        "averigua la forma del array"
      ]
    },
    {
      "cell_type": "markdown",
      "source": [
        "*array*.shape"
      ],
      "metadata": {
        "id": "E-2E1OsNKJME"
      }
    },
    {
      "cell_type": "code",
      "source": [
        "array.shape"
      ],
      "metadata": {
        "id": "Uc5TbQMYRrrN",
        "outputId": "b14aa773-1b3e-4c00-e51c-3ec8b0442c62",
        "colab": {
          "base_uri": "https://localhost:8080/"
        }
      },
      "execution_count": null,
      "outputs": [
        {
          "output_type": "execute_result",
          "data": {
            "text/plain": [
              "(5, 3)"
            ]
          },
          "metadata": {},
          "execution_count": 38
        }
      ]
    },
    {
      "cell_type": "code",
      "source": [
        "array.ndim"
      ],
      "metadata": {
        "id": "K5gWYmE_RvK9",
        "outputId": "78c6f5c7-28e1-40f1-f14e-3148b9a123cd",
        "colab": {
          "base_uri": "https://localhost:8080/"
        }
      },
      "execution_count": null,
      "outputs": [
        {
          "output_type": "execute_result",
          "data": {
            "text/plain": [
              "2"
            ]
          },
          "metadata": {},
          "execution_count": 39
        }
      ]
    },
    {
      "cell_type": "markdown",
      "metadata": {
        "id": "wvHnXYCiKJME"
      },
      "source": [
        "Selecciona la segunda columna del array"
      ]
    },
    {
      "cell_type": "code",
      "execution_count": null,
      "metadata": {
        "collapsed": true,
        "colab": {
          "base_uri": "https://localhost:8080/"
        },
        "id": "jBDVh2d5KJMF",
        "outputId": "3ea85065-d724-4d8a-ce27-1a443b5e81f2"
      },
      "outputs": [
        {
          "output_type": "execute_result",
          "data": {
            "text/plain": [
              "array([ 6,  7,  8,  9, 10])"
            ]
          },
          "metadata": {},
          "execution_count": 13
        }
      ],
      "source": [
        "array[:,1]"
      ]
    },
    {
      "cell_type": "markdown",
      "metadata": {
        "id": "d0kyI89fKJMF"
      },
      "source": [
        " Crea un vector con los valores del 15 al 55, llamalo array2\n",
        "    \n",
        "*pista: usa np.arange*"
      ]
    },
    {
      "cell_type": "code",
      "execution_count": null,
      "metadata": {
        "collapsed": true,
        "colab": {
          "base_uri": "https://localhost:8080/"
        },
        "id": "mp8CrDq3KJMF",
        "outputId": "09794b09-b935-41bc-d340-a495262ae1f8"
      },
      "outputs": [
        {
          "output_type": "execute_result",
          "data": {
            "text/plain": [
              "array([15, 16, 17, 18, 19, 20, 21, 22, 23, 24, 25, 26, 27, 28, 29, 30, 31,\n",
              "       32, 33, 34, 35, 36, 37, 38, 39, 40, 41, 42, 43, 44, 45, 46, 47, 48,\n",
              "       49, 50, 51, 52, 53, 54, 55])"
            ]
          },
          "metadata": {},
          "execution_count": 19
        }
      ],
      "source": [
        "array2 = np.arange(15, 56)\n",
        "array2"
      ]
    },
    {
      "cell_type": "markdown",
      "metadata": {
        "id": "-KaqysZSKJMF"
      },
      "source": [
        "asigna el valor 23 a la quinta posicion del array2"
      ]
    },
    {
      "cell_type": "code",
      "execution_count": null,
      "metadata": {
        "collapsed": true,
        "colab": {
          "base_uri": "https://localhost:8080/"
        },
        "id": "R1JsB0FfKJMG",
        "outputId": "c06f6e5a-ea76-4a48-f76e-4b86c7373dbf"
      },
      "outputs": [
        {
          "output_type": "execute_result",
          "data": {
            "text/plain": [
              "array([15, 16, 17, 18, 23, 20, 21, 22, 23, 24, 25, 26, 27, 28, 29, 30, 31,\n",
              "       32, 33, 34, 35, 36, 37, 38, 39, 40, 41, 42, 43, 44, 45, 46, 47, 48,\n",
              "       49, 50, 51, 52, 53, 54, 55])"
            ]
          },
          "metadata": {},
          "execution_count": 40
        }
      ],
      "source": [
        "array2[4]=23\n",
        "array2"
      ]
    },
    {
      "cell_type": "markdown",
      "metadata": {
        "id": "lur19iQcKJMG"
      },
      "source": [
        "convierte array2 del revés (es decir `[55,54,....,15]`"
      ]
    },
    {
      "cell_type": "code",
      "execution_count": null,
      "metadata": {
        "collapsed": true,
        "colab": {
          "base_uri": "https://localhost:8080/"
        },
        "id": "hMOCR36tKJMG",
        "outputId": "02e8b23c-dff3-4fd5-cc97-ffa816ff36c7"
      },
      "outputs": [
        {
          "output_type": "execute_result",
          "data": {
            "text/plain": [
              "array([55, 54, 53, 52, 51, 50, 49, 48, 47, 46, 45, 44, 43, 42, 41, 40, 39,\n",
              "       38, 37, 36, 35, 34, 33, 32, 31, 30, 29, 28, 27, 26, 25, 24, 23, 22,\n",
              "       21, 20, 23, 18, 17, 16, 15])"
            ]
          },
          "metadata": {},
          "execution_count": 28
        }
      ],
      "source": [
        "array2[::-1]"
      ]
    },
    {
      "cell_type": "markdown",
      "metadata": {
        "id": "WKe3UOzlKJMG"
      },
      "source": [
        "Crea una matriz diagonal donde los elementos de la diagonal sean los 5 primeros valores pares de array2, llamala `matriz_diag`\n",
        "\n",
        "*pista: usa np.diag*"
      ]
    },
    {
      "cell_type": "code",
      "execution_count": null,
      "metadata": {
        "collapsed": true,
        "colab": {
          "base_uri": "https://localhost:8080/"
        },
        "id": "uQ8I1wboKJMG",
        "outputId": "0eec2f3b-13d5-4374-e0ee-f10aff26200d"
      },
      "outputs": [
        {
          "output_type": "stream",
          "name": "stdout",
          "text": [
            "[[16  0  0  0  0]\n",
            " [ 0 18  0  0  0]\n",
            " [ 0  0 20  0  0]\n",
            " [ 0  0  0 22  0]\n",
            " [ 0  0  0  0 24]]\n"
          ]
        }
      ],
      "source": [
        "valores_pares = array2[array2 % 2 == 0][:5]\n",
        "valores_pares\n",
        "# Crear una matriz diagonal con esos valores\n",
        "matriz_diag = np.diag(valores_pares)\n",
        "\n",
        "print(matriz_diag)\n"
      ]
    },
    {
      "cell_type": "markdown",
      "metadata": {
        "id": "DaffhLr4KJMG"
      },
      "source": [
        "Imprime el numero de dimensiones de `matriz_diag`"
      ]
    },
    {
      "cell_type": "code",
      "execution_count": null,
      "metadata": {
        "collapsed": true,
        "colab": {
          "base_uri": "https://localhost:8080/"
        },
        "id": "9xWoteXQKJMG",
        "outputId": "574d51a7-7f8a-4a0a-e980-a2d3c676f133"
      },
      "outputs": [
        {
          "output_type": "execute_result",
          "data": {
            "text/plain": [
              "2"
            ]
          },
          "metadata": {},
          "execution_count": 31
        }
      ],
      "source": [
        "matriz_diag.ndim"
      ]
    },
    {
      "cell_type": "markdown",
      "metadata": {
        "id": "2VnkHbhwKJMH"
      },
      "source": [
        "Crea una matriz con números aleatorios de tamaño 5x3 (4 filas por 3 columnas), llamala `matriz`"
      ]
    },
    {
      "cell_type": "code",
      "execution_count": null,
      "metadata": {
        "collapsed": true,
        "colab": {
          "base_uri": "https://localhost:8080/"
        },
        "id": "gIRiIrn9KJMH",
        "outputId": "40598fc5-ecec-4a71-ee05-9b997dc60a79"
      },
      "outputs": [
        {
          "output_type": "execute_result",
          "data": {
            "text/plain": [
              "array([[0.4297528 , 0.27245285, 0.10916125],\n",
              "       [0.71685754, 0.13568339, 0.76686425],\n",
              "       [0.94468236, 0.1514848 , 0.24812084],\n",
              "       [0.68856967, 0.33960189, 0.27818005],\n",
              "       [0.97161794, 0.26140067, 0.53362746]])"
            ]
          },
          "metadata": {},
          "execution_count": 46
        }
      ],
      "source": [
        "matriz= np.random.random ((5,3))\n",
        "matriz"
      ]
    },
    {
      "cell_type": "markdown",
      "metadata": {
        "id": "9qFVy0dcKJMH"
      },
      "source": [
        "multiplica `matriz` por `matriz_diag`"
      ]
    },
    {
      "cell_type": "code",
      "source": [
        "matriz.T.shape"
      ],
      "metadata": {
        "id": "rSpRPTSxQ3lI",
        "outputId": "8ff7f52d-1f6d-40ca-f2a7-1a2dd88293af",
        "colab": {
          "base_uri": "https://localhost:8080/"
        }
      },
      "execution_count": null,
      "outputs": [
        {
          "output_type": "execute_result",
          "data": {
            "text/plain": [
              "(3, 5)"
            ]
          },
          "metadata": {},
          "execution_count": 47
        }
      ]
    },
    {
      "cell_type": "code",
      "source": [
        "matriz.T"
      ],
      "metadata": {
        "id": "6w8_Ra3_TQSY",
        "outputId": "cd0723d7-b019-48ab-85c9-9a30f14f1554",
        "colab": {
          "base_uri": "https://localhost:8080/"
        }
      },
      "execution_count": null,
      "outputs": [
        {
          "output_type": "execute_result",
          "data": {
            "text/plain": [
              "array([[0.4297528 , 0.71685754, 0.94468236, 0.68856967, 0.97161794],\n",
              "       [0.27245285, 0.13568339, 0.1514848 , 0.33960189, 0.26140067],\n",
              "       [0.10916125, 0.76686425, 0.24812084, 0.27818005, 0.53362746]])"
            ]
          },
          "metadata": {},
          "execution_count": 50
        }
      ]
    },
    {
      "cell_type": "code",
      "source": [
        "matriz.T @ matriz_diag"
      ],
      "metadata": {
        "id": "Zz4xUof9Rmhu",
        "outputId": "5e984a54-5f84-4602-d79f-c097ca15515d",
        "colab": {
          "base_uri": "https://localhost:8080/"
        }
      },
      "execution_count": null,
      "outputs": [
        {
          "output_type": "execute_result",
          "data": {
            "text/plain": [
              "array([[ 6.87604477, 12.90343568, 18.89364727, 15.14853267, 23.31883056],\n",
              "       [ 4.35924561,  2.4423011 ,  3.02969593,  7.47124158,  6.27361603],\n",
              "       [ 1.74658002, 13.80355648,  4.96241678,  6.11996118, 12.80705896]])"
            ]
          },
          "metadata": {},
          "execution_count": 49
        }
      ]
    }
  ],
  "metadata": {
    "kernelspec": {
      "display_name": "Python 3",
      "language": "python",
      "name": "python3"
    },
    "language_info": {
      "codemirror_mode": {
        "name": "ipython",
        "version": 3
      },
      "file_extension": ".py",
      "mimetype": "text/x-python",
      "name": "python",
      "nbconvert_exporter": "python",
      "pygments_lexer": "ipython3",
      "version": "3.6.4"
    },
    "colab": {
      "provenance": [],
      "include_colab_link": true
    }
  },
  "nbformat": 4,
  "nbformat_minor": 0
}